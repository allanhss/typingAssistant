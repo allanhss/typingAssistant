{
 "cells": [
  {
   "cell_type": "code",
   "execution_count": null,
   "metadata": {},
   "outputs": [],
   "source": [
    "def whatsAppContact(number):\n",
    "    number = str(number)\n",
    "    splited = [\n",
    "        \"\".join(filter(str.isdigit, i))\n",
    "        for i in number.replace(\"-\", \"\").replace(\")\", \" \").split(\" \")\n",
    "        if i\n",
    "    ]\n",
    "    if len(splited) == 2:\n",
    "        if len(splited[0]) not in [2, 3]:\n",
    "            out = False\n",
    "        elif len(splited[1]) not in [8, 9]:\n",
    "            out = False\n",
    "        else:\n",
    "            splited[0] = splited[0].zfill(3)\n",
    "            splited[1] = splited[1].zfill(9)\n",
    "            out = \"+55\" + \"\".join(splited)\n",
    "    elif len(splited) == 3:\n",
    "        if len(splited[0]) > 2:\n",
    "            out = False\n",
    "        elif len(splited[1]) not in [2, 3]:\n",
    "            out = False\n",
    "        elif len(splited[2]) not in [8, 9]:\n",
    "            out = False\n",
    "        else:\n",
    "            splited[0] = splited[0].zfill(2)\n",
    "            splited[1] = splited[1].zfill(3)\n",
    "            splited[2] = splited[2].zfill(9)\n",
    "            out = \"\".join(splited)\n",
    "    elif len(splited) == 1:\n",
    "        if len(splited[0]) in [10, 11, 12]:\n",
    "            out = \"+55\" + splited[0]\n",
    "        elif len(splited[0]) in [12, 13, 14]:\n",
    "            out = splited[0]\n",
    "    else:\n",
    "        out = False\n",
    "    if out:\n",
    "        return out\n",
    "    else:\n",
    "        return False"
   ]
  },
  {
   "cell_type": "code",
   "execution_count": null,
   "metadata": {},
   "outputs": [],
   "source": [
    "import pandas as pd\n",
    "\n",
    "pedidoDF = pd.read_excel(\"userData\\\\ariete.xlsx\", index_col=0)\n",
    "pedidoDF[\"Total do Pedido\"] = pd.to_numeric(\n",
    "    pedidoDF[\"Total do Pedido\"], errors=\"coerce\"\n",
    ")\n",
    "pedidoDF[\"Valor Pago\"] = pd.to_numeric(pedidoDF[\"Valor Pago\"], errors=\"coerce\")\n",
    "pedidoDF = (\n",
    "    pedidoDF.groupby(\"Nome\")\n",
    "    .agg(\n",
    "        {\"Total do Pedido\": \"sum\", \"Valor Pago\": \"sum\", \"Número para contato\": \"first\"}\n",
    "    )\n",
    "    .reset_index()\n",
    ")"
   ]
  },
  {
   "cell_type": "code",
   "execution_count": null,
   "metadata": {},
   "outputs": [],
   "source": [
    "filtroDF = pedidoDF.query(\"`Total do Pedido` > `Valor Pago`\")\n",
    "filtroDF[\"Restante\"] = filtroDF[\"Total do Pedido\"] - filtroDF[\"Valor Pago\"]\n",
    "filtroDF[\"Número para contato\"] = filtroDF[\"Número para contato\"].apply(whatsAppContact)"
   ]
  },
  {
   "cell_type": "code",
   "execution_count": null,
   "metadata": {},
   "outputs": [],
   "source": [
    "from selenium import webdriver\n",
    "from selenium.webdriver.common.by import By\n",
    "from selenium.webdriver.chrome.options import Options\n",
    "\n",
    "driver = webdriver.Chrome(options=Options().add_argument(\"--incognito\"))\n",
    "driver.get(\"https://web.whatsapp.com/\")\n",
    "driver.implicitly_wait(0.5)\n",
    "try:\n",
    "    while 1:\n",
    "        driver.find_element(value=\"landing-main\", by=By.CLASS_NAME)\n",
    "        driver.implicitly_wait(1)\n",
    "except:\n",
    "    print(\"Login OK\")"
   ]
  },
  {
   "cell_type": "code",
   "execution_count": null,
   "metadata": {},
   "outputs": [],
   "source": [
    "import urllib.parse\n",
    "import time\n",
    "\n",
    "\n",
    "for index, row in filtroDF.iterrows():\n",
    "    nome = row[\"Nome\"].split(\" \")[0]\n",
    "    numero = row[\"Número para contato\"]\n",
    "    valor = row[\"Restante\"]\n",
    "    msg = f\"\"\"Bom dia, {nome}. Tudo bem ?\"\"\"\n",
    "    driver.get(\n",
    "        f\"https://web.whatsapp.com/send?phone={numero}&text=\"\n",
    "        + urllib.parse.quote_plus(msg)\n",
    "        + \"&type=phone_number&app_absent=1\"\n",
    "    )\n",
    "    time.sleep(30)\n",
    "    driver.find_element(By.XPATH, '//button[@aria-label=\"Enviar\"]').click()\n",
    "    time.sleep(10)\n",
    "    print(nome)"
   ]
  },
  {
   "cell_type": "code",
   "execution_count": null,
   "metadata": {},
   "outputs": [],
   "source": [
    "driver.find_elements_by_xpath(\n",
    "    \"//*[contains(text(), 'O número de telefone compartilhado por url é inválido.')]\"\n",
    ")"
   ]
  }
 ],
 "metadata": {
  "kernelspec": {
   "display_name": "Python 3",
   "language": "python",
   "name": "python3"
  },
  "language_info": {
   "codemirror_mode": {
    "name": "ipython",
    "version": 3
   },
   "file_extension": ".py",
   "mimetype": "text/x-python",
   "name": "python",
   "nbconvert_exporter": "python",
   "pygments_lexer": "ipython3",
   "version": "3.10.10"
  }
 },
 "nbformat": 4,
 "nbformat_minor": 2
}
